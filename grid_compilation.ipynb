{
 "cells": [
  {
   "cell_type": "code",
   "execution_count": 17,
   "id": "86ef81ef",
   "metadata": {},
   "outputs": [],
   "source": [
    "import pandas as pd\n",
    "import numpy as np\n",
    "import numpy.ma as ma"
   ]
  },
  {
   "cell_type": "code",
   "execution_count": 6,
   "id": "79c7ee1c",
   "metadata": {},
   "outputs": [],
   "source": [
    "lat_bounds = range(-90,91)\n",
    "lon_bounds = range(-180,180)"
   ]
  },
  {
   "cell_type": "code",
   "execution_count": 8,
   "id": "51bc36e0",
   "metadata": {},
   "outputs": [],
   "source": [
    "import netCDF4 as nc\n",
    "path = '/Users/varunpatro/Desktop/OBEG/woa18_decav_t14_01.nc'\n",
    "depth_data = nc.Dataset(path)"
   ]
  },
  {
   "cell_type": "code",
   "execution_count": 11,
   "id": "ff7fa90e",
   "metadata": {},
   "outputs": [],
   "source": [
    "depth_bands = depth_data['depth_bnds'][:]"
   ]
  },
  {
   "cell_type": "code",
   "execution_count": 18,
   "id": "f1f0fab2",
   "metadata": {},
   "outputs": [],
   "source": [
    "depth_bands = ma.getdata(depth_bands)"
   ]
  },
  {
   "cell_type": "code",
   "execution_count": 30,
   "id": "738c72fe",
   "metadata": {},
   "outputs": [],
   "source": [
    "lat_points = np.linspace(-89.5,90.5,180,False)\n",
    "lon_points = np.linspace(-179.5, 180.5, 360, False)"
   ]
  },
  {
   "cell_type": "code",
   "execution_count": 33,
   "id": "eddbe974",
   "metadata": {},
   "outputs": [],
   "source": [
    "months = range(1,13)"
   ]
  },
  {
   "cell_type": "code",
   "execution_count": null,
   "id": "7775fb19",
   "metadata": {},
   "outputs": [],
   "source": [
    "for lat in lat_points:\n",
    "    for lon in lon_points:\n",
    "        "
   ]
  }
 ],
 "metadata": {
  "kernelspec": {
   "display_name": "Python 3 (ipykernel)",
   "language": "python",
   "name": "python3"
  },
  "language_info": {
   "codemirror_mode": {
    "name": "ipython",
    "version": 3
   },
   "file_extension": ".py",
   "mimetype": "text/x-python",
   "name": "python",
   "nbconvert_exporter": "python",
   "pygments_lexer": "ipython3",
   "version": "3.9.12"
  }
 },
 "nbformat": 4,
 "nbformat_minor": 5
}
