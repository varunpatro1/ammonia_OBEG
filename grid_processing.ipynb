{
 "cells": [
  {
   "cell_type": "code",
   "execution_count": 1,
   "id": "3e16424f-fe5a-44c2-8d3a-67675b7803e8",
   "metadata": {},
   "outputs": [],
   "source": [
    "import numpy as np\n",
    "import pandas as pd\n",
    "import matplotlib.pyplot as plt"
   ]
  },
  {
   "cell_type": "code",
   "execution_count": 2,
   "id": "69ad73e3-7a79-406c-a243-0e40ca678911",
   "metadata": {},
   "outputs": [],
   "source": [
    "from scipy.io import loadmat\n",
    "mat = loadmat(r'/Users/varunpatro/Desktop/OBEG/ammonia_grid.mat')"
   ]
  },
  {
   "cell_type": "code",
   "execution_count": 3,
   "id": "890f5bc2-026a-47ac-9ebb-9ec43cfd1fde",
   "metadata": {},
   "outputs": [],
   "source": [
    "data = mat['nh4']\n"
   ]
  },
  {
   "cell_type": "code",
   "execution_count": 4,
   "id": "72349742-10e4-4ae1-87c7-7aa9ae69c50f",
   "metadata": {},
   "outputs": [
    {
     "data": {
      "text/plain": [
       "numpy.ndarray"
      ]
     },
     "execution_count": 4,
     "metadata": {},
     "output_type": "execute_result"
    }
   ],
   "source": [
    "type(data)"
   ]
  },
  {
   "cell_type": "code",
   "execution_count": 5,
   "id": "eb1289ea-8edd-4f8c-8482-0b29c53a8a0a",
   "metadata": {},
   "outputs": [
    {
     "data": {
      "text/plain": [
       "(1, 1)"
      ]
     },
     "execution_count": 5,
     "metadata": {},
     "output_type": "execute_result"
    }
   ],
   "source": [
    "data.shape"
   ]
  },
  {
   "cell_type": "code",
   "execution_count": 13,
   "id": "58275122-293e-435e-b2f4-bd572c7cc399",
   "metadata": {},
   "outputs": [],
   "source": [
    "mdtype = data.dtype"
   ]
  },
  {
   "cell_type": "code",
   "execution_count": 14,
   "id": "998f62da-2ef2-4748-8ed5-052bad164e5f",
   "metadata": {},
   "outputs": [],
   "source": [
    "ndata = {n: data[n][0, 0] for n in mdtype.names}\n"
   ]
  },
  {
   "cell_type": "code",
   "execution_count": 59,
   "id": "3340fc1c-57c8-415e-9429-af4d7e7a6c84",
   "metadata": {},
   "outputs": [],
   "source": [
    "nh4_concs = (((ndata['res1p0'])[0,0])[0])"
   ]
  },
  {
   "cell_type": "code",
   "execution_count": 60,
   "id": "005868e1-c78d-4e23-a74a-898345cdae16",
   "metadata": {},
   "outputs": [],
   "source": [
    "counts = (((ndata['res1p0'])[0,0])[1])"
   ]
  },
  {
   "cell_type": "code",
   "execution_count": null,
   "id": "161703b3-2ab3-4d12-b01f-24e807612133",
   "metadata": {},
   "outputs": [],
   "source": []
  },
  {
   "cell_type": "code",
   "execution_count": 62,
   "id": "d605210e-290a-4e10-92c7-8cb36674aca1",
   "metadata": {},
   "outputs": [
    {
     "data": {
      "text/plain": [
       "(360, 180, 102, 12)"
      ]
     },
     "execution_count": 62,
     "metadata": {},
     "output_type": "execute_result"
    }
   ],
   "source": [
    "nh4_concs.shape"
   ]
  },
  {
   "cell_type": "code",
   "execution_count": 64,
   "id": "27144137-86eb-4922-b635-a893d4406c61",
   "metadata": {},
   "outputs": [],
   "source": [
    "months = [None] * 12"
   ]
  },
  {
   "cell_type": "code",
   "execution_count": 65,
   "id": "8f4524d3-16c8-4827-bf3a-a6a5195b95af",
   "metadata": {},
   "outputs": [
    {
     "data": {
      "text/plain": [
       "[None, None, None, None, None, None, None, None, None, None, None, None]"
      ]
     },
     "execution_count": 65,
     "metadata": {},
     "output_type": "execute_result"
    }
   ],
   "source": [
    "months"
   ]
  },
  {
   "cell_type": "code",
   "execution_count": 66,
   "id": "a4b7e16e-4c2f-47a9-a76a-61bd3ad93db0",
   "metadata": {},
   "outputs": [],
   "source": [
    "for i in range(12):\n",
    "    months[i] = nh4_concs[:,:,:,i]"
   ]
  },
  {
   "cell_type": "code",
   "execution_count": 67,
   "id": "628f39a2-3bbd-4344-a42d-699c70d9ccc8",
   "metadata": {},
   "outputs": [
    {
     "data": {
      "text/plain": [
       "(360, 180, 102)"
      ]
     },
     "execution_count": 67,
     "metadata": {},
     "output_type": "execute_result"
    }
   ],
   "source": [
    "months[0].shape"
   ]
  },
  {
   "cell_type": "code",
   "execution_count": null,
   "id": "d0ead81e-0025-4904-bc0f-b2f909de4b82",
   "metadata": {},
   "outputs": [],
   "source": []
  }
 ],
 "metadata": {
  "kernelspec": {
   "display_name": "Python 3 (ipykernel)",
   "language": "python",
   "name": "python3"
  },
  "language_info": {
   "codemirror_mode": {
    "name": "ipython",
    "version": 3
   },
   "file_extension": ".py",
   "mimetype": "text/x-python",
   "name": "python",
   "nbconvert_exporter": "python",
   "pygments_lexer": "ipython3",
   "version": "3.9.12"
  }
 },
 "nbformat": 4,
 "nbformat_minor": 5
}
