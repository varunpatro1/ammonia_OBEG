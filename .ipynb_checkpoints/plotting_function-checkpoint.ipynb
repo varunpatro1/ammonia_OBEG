{
 "cells": [
  {
   "cell_type": "code",
   "execution_count": 1,
   "id": "8eb6da61-8a73-4d6e-be77-30c4cdd50a50",
   "metadata": {},
   "outputs": [],
   "source": [
    "import numpy as np\n",
    "import pandas as pd\n",
    "import matplotlib.pyplot as plt\n",
    "\n",
    "import geopandas as gpd\n",
    "from geopandas import GeoDataFrame"
   ]
  },
  {
   "cell_type": "code",
   "execution_count": null,
   "id": "46448bda-2cf6-4391-9dcc-f20b73ae6274",
   "metadata": {},
   "outputs": [],
   "source": [
    "def plot_grid_per_depth(df:b):\n",
    "    \n",
    "    titles = ['Jan Depth 1', 'Feb Depth 1', 'Mar Depth 1', \\\n",
    "         'Apr Depth 1', 'May Depth 1', 'Jun Depth 1', \\\n",
    "         'Jul Depth 1', 'Aug Depth 1', 'Sep Depth 1', \\\n",
    "         'Oct Depth 1', 'Nov Depth 1', 'Dec Depth 1']\n",
    "\n",
    "fig, ax = plt.subplots(figsize=(20,16), ncols = 3, nrows = 4, gridspec_kw = None)\n",
    "countries = gpd.read_file(  \n",
    "     gpd.datasets.get_path(\"naturalearth_lowres\"))\n",
    "\n",
    "for i in range(4):\n",
    "    for j in range(3): \n",
    "        countries.plot(color=\"lightgrey\", ax = ax[i][j])\n",
    "        \n",
    "indices = [ax[0,0], ax[0,1], ax[0,2], ax[1,0], ax[1,1], ax[1,2], \\\n",
    "           ax[2,0], ax[2,1], ax[2,2], ax[3,0], ax[3,1], ax[3,2]]\n",
    "\n",
    "# plot points\n",
    "\n",
    "for i in range(12):\n",
    "    df.plot(x=\"lon\", y=\"lat\", kind=\"scatter\", \n",
    "        c=df.iloc[:,i+3], colormap=\"seismic\", \n",
    "        title= titles[i] , \n",
    "        ax=indices[i])\n",
    "plt.show()"
   ]
  },
  {
   "cell_type": "code",
   "execution_count": null,
   "id": "67d9dd8a-b5ae-42f0-83c1-4e130a2b4eee",
   "metadata": {},
   "outputs": [],
   "source": []
  }
 ],
 "metadata": {
  "kernelspec": {
   "display_name": "Python 3 (ipykernel)",
   "language": "python",
   "name": "python3"
  },
  "language_info": {
   "codemirror_mode": {
    "name": "ipython",
    "version": 3
   },
   "file_extension": ".py",
   "mimetype": "text/x-python",
   "name": "python",
   "nbconvert_exporter": "python",
   "pygments_lexer": "ipython3",
   "version": "3.9.12"
  }
 },
 "nbformat": 4,
 "nbformat_minor": 5
}
