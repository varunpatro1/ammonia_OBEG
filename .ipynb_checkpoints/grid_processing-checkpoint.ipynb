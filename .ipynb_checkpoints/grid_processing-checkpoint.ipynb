{
 "cells": [
  {
   "cell_type": "code",
   "execution_count": 1,
   "id": "3e16424f-fe5a-44c2-8d3a-67675b7803e8",
   "metadata": {},
   "outputs": [],
   "source": [
    "import numpy as np\n",
    "import pandas as pd\n",
    "import matplotlib.pyplot as plt"
   ]
  },
  {
   "cell_type": "code",
   "execution_count": 2,
   "id": "69ad73e3-7a79-406c-a243-0e40ca678911",
   "metadata": {},
   "outputs": [],
   "source": [
    "from scipy.io import loadmat\n",
    "mat = loadmat(r'/Users/varunpatro/Desktop/OBEG/ammonia_grid.mat')"
   ]
  },
  {
   "cell_type": "code",
   "execution_count": 3,
   "id": "890f5bc2-026a-47ac-9ebb-9ec43cfd1fde",
   "metadata": {},
   "outputs": [],
   "source": [
    "data = mat['nh4']\n"
   ]
  },
  {
   "cell_type": "code",
   "execution_count": 4,
   "id": "72349742-10e4-4ae1-87c7-7aa9ae69c50f",
   "metadata": {},
   "outputs": [
    {
     "data": {
      "text/plain": [
       "numpy.ndarray"
      ]
     },
     "execution_count": 4,
     "metadata": {},
     "output_type": "execute_result"
    }
   ],
   "source": [
    "type(data)"
   ]
  },
  {
   "cell_type": "code",
   "execution_count": 5,
   "id": "eb1289ea-8edd-4f8c-8482-0b29c53a8a0a",
   "metadata": {},
   "outputs": [
    {
     "data": {
      "text/plain": [
       "(1, 1)"
      ]
     },
     "execution_count": 5,
     "metadata": {},
     "output_type": "execute_result"
    }
   ],
   "source": [
    "data.shape"
   ]
  },
  {
   "cell_type": "code",
   "execution_count": 13,
   "id": "58275122-293e-435e-b2f4-bd572c7cc399",
   "metadata": {},
   "outputs": [],
   "source": [
    "mdtype = data.dtype"
   ]
  },
  {
   "cell_type": "code",
   "execution_count": 14,
   "id": "998f62da-2ef2-4748-8ed5-052bad164e5f",
   "metadata": {},
   "outputs": [],
   "source": [
    "ndata = {n: data[n][0, 0] for n in mdtype.names}\n"
   ]
  },
  {
   "cell_type": "code",
   "execution_count": 59,
   "id": "3340fc1c-57c8-415e-9429-af4d7e7a6c84",
   "metadata": {},
   "outputs": [],
   "source": [
    "nh4_concs = (((ndata['res1p0'])[0,0])[0])"
   ]
  },
  {
   "cell_type": "code",
   "execution_count": 60,
   "id": "005868e1-c78d-4e23-a74a-898345cdae16",
   "metadata": {},
   "outputs": [],
   "source": [
    "counts = (((ndata['res1p0'])[0,0])[1])"
   ]
  },
  {
   "cell_type": "code",
   "execution_count": null,
   "id": "161703b3-2ab3-4d12-b01f-24e807612133",
   "metadata": {},
   "outputs": [],
   "source": []
  },
  {
   "cell_type": "code",
   "execution_count": 62,
   "id": "d605210e-290a-4e10-92c7-8cb36674aca1",
   "metadata": {},
   "outputs": [
    {
     "data": {
      "text/plain": [
       "(360, 180, 102, 12)"
      ]
     },
     "execution_count": 62,
     "metadata": {},
     "output_type": "execute_result"
    }
   ],
   "source": [
    "nh4_concs.shape"
   ]
  },
  {
   "cell_type": "code",
   "execution_count": 64,
   "id": "27144137-86eb-4922-b635-a893d4406c61",
   "metadata": {},
   "outputs": [],
   "source": [
    "months = [None] * 12"
   ]
  },
  {
   "cell_type": "code",
   "execution_count": 65,
   "id": "8f4524d3-16c8-4827-bf3a-a6a5195b95af",
   "metadata": {},
   "outputs": [
    {
     "data": {
      "text/plain": [
       "[None, None, None, None, None, None, None, None, None, None, None, None]"
      ]
     },
     "execution_count": 65,
     "metadata": {},
     "output_type": "execute_result"
    }
   ],
   "source": [
    "months"
   ]
  },
  {
   "cell_type": "code",
   "execution_count": 66,
   "id": "a4b7e16e-4c2f-47a9-a76a-61bd3ad93db0",
   "metadata": {},
   "outputs": [],
   "source": [
    "for i in range(12):\n",
    "    months[i] = nh4_concs[:,:,:,i]"
   ]
  },
  {
   "cell_type": "code",
   "execution_count": 67,
   "id": "628f39a2-3bbd-4344-a42d-699c70d9ccc8",
   "metadata": {},
   "outputs": [
    {
     "data": {
      "text/plain": [
       "(360, 180, 102)"
      ]
     },
     "execution_count": 67,
     "metadata": {},
     "output_type": "execute_result"
    }
   ],
   "source": [
    "months[0].shape"
   ]
  },
  {
   "cell_type": "code",
   "execution_count": 68,
   "id": "d0ead81e-0025-4904-bc0f-b2f909de4b82",
   "metadata": {},
   "outputs": [],
   "source": [
    "month_counts = [None] * 12\n",
    "for i in range(12):\n",
    "    month_counts[i] = counts[:,:,:,i]"
   ]
  },
  {
   "cell_type": "code",
   "execution_count": 69,
   "id": "39505bc0-e46d-41e2-b649-65aaeec25073",
   "metadata": {},
   "outputs": [
    {
     "data": {
      "text/plain": [
       "(360, 180, 102)"
      ]
     },
     "execution_count": 69,
     "metadata": {},
     "output_type": "execute_result"
    }
   ],
   "source": [
    "month_counts[0].shape"
   ]
  },
  {
   "cell_type": "code",
   "execution_count": 83,
   "id": "e099d6e6-f732-4f16-9db1-1001f2eeff1e",
   "metadata": {},
   "outputs": [],
   "source": [
    "# building columns of data frame\n",
    "\n",
    "lat_pts = np.linspace(-89.5,90.5,180,False)\n",
    "lat_col = []\n",
    "\n",
    "for i in range(360):\n",
    "    lat_col.append(lat_pts)"
   ]
  },
  {
   "cell_type": "code",
   "execution_count": 84,
   "id": "7acff2cf-f5fe-4af8-9c71-a04ec14b9476",
   "metadata": {},
   "outputs": [],
   "source": [
    "lat_col = [item for sublist in lat_col for item in sublist]\n"
   ]
  },
  {
   "cell_type": "code",
   "execution_count": 85,
   "id": "acdc4782-2f85-4c74-9649-a09992099830",
   "metadata": {},
   "outputs": [
    {
     "data": {
      "text/plain": [
       "64800"
      ]
     },
     "execution_count": 85,
     "metadata": {},
     "output_type": "execute_result"
    }
   ],
   "source": [
    "len(lat_col)"
   ]
  },
  {
   "cell_type": "code",
   "execution_count": 86,
   "id": "3f4b3f1d-ef03-46ed-a3f9-16144dc56e6b",
   "metadata": {},
   "outputs": [
    {
     "name": "stdout",
     "output_type": "stream",
     "text": [
      "360\n"
     ]
    }
   ],
   "source": [
    "lon_pts = np.linspace(-179.5, 180.5, 360, False)\n",
    "print(len(lon_pts))"
   ]
  },
  {
   "cell_type": "code",
   "execution_count": 88,
   "id": "f07eb9c6-cd7c-4d59-a624-7e88568aaa96",
   "metadata": {},
   "outputs": [],
   "source": [
    "lon_col = []"
   ]
  },
  {
   "cell_type": "code",
   "execution_count": 89,
   "id": "bda560ce-47d2-4559-beba-b26c5312fc2b",
   "metadata": {},
   "outputs": [],
   "source": [
    "for i in range(360):\n",
    "    for j in range(180):\n",
    "        lon_col.append(lon_pts[i])"
   ]
  },
  {
   "cell_type": "code",
   "execution_count": 90,
   "id": "a50e8cf2-4e03-461a-b0dd-cbb03ba1e3b2",
   "metadata": {},
   "outputs": [
    {
     "data": {
      "text/plain": [
       "64800"
      ]
     },
     "execution_count": 90,
     "metadata": {},
     "output_type": "execute_result"
    }
   ],
   "source": [
    "len(lon_col)"
   ]
  },
  {
   "cell_type": "code",
   "execution_count": 91,
   "id": "5c8479fb-5326-4357-b73e-670e34b8c3ed",
   "metadata": {},
   "outputs": [],
   "source": [
    "df = pd.DataFrame({'lat':lat_col})"
   ]
  },
  {
   "cell_type": "code",
   "execution_count": 92,
   "id": "ddc1a8aa-d9aa-4c0e-a79d-a6344c897f06",
   "metadata": {},
   "outputs": [],
   "source": [
    "df['lon'] = lon_col"
   ]
  },
  {
   "cell_type": "code",
   "execution_count": 93,
   "id": "8d4f16a1-466e-4f50-b2c6-4582c82969f0",
   "metadata": {},
   "outputs": [
    {
     "data": {
      "text/html": [
       "<div>\n",
       "<style scoped>\n",
       "    .dataframe tbody tr th:only-of-type {\n",
       "        vertical-align: middle;\n",
       "    }\n",
       "\n",
       "    .dataframe tbody tr th {\n",
       "        vertical-align: top;\n",
       "    }\n",
       "\n",
       "    .dataframe thead th {\n",
       "        text-align: right;\n",
       "    }\n",
       "</style>\n",
       "<table border=\"1\" class=\"dataframe\">\n",
       "  <thead>\n",
       "    <tr style=\"text-align: right;\">\n",
       "      <th></th>\n",
       "      <th>lat</th>\n",
       "      <th>lon</th>\n",
       "    </tr>\n",
       "  </thead>\n",
       "  <tbody>\n",
       "    <tr>\n",
       "      <th>0</th>\n",
       "      <td>-89.5</td>\n",
       "      <td>-179.5</td>\n",
       "    </tr>\n",
       "    <tr>\n",
       "      <th>1</th>\n",
       "      <td>-88.5</td>\n",
       "      <td>-179.5</td>\n",
       "    </tr>\n",
       "    <tr>\n",
       "      <th>2</th>\n",
       "      <td>-87.5</td>\n",
       "      <td>-179.5</td>\n",
       "    </tr>\n",
       "    <tr>\n",
       "      <th>3</th>\n",
       "      <td>-86.5</td>\n",
       "      <td>-179.5</td>\n",
       "    </tr>\n",
       "    <tr>\n",
       "      <th>4</th>\n",
       "      <td>-85.5</td>\n",
       "      <td>-179.5</td>\n",
       "    </tr>\n",
       "  </tbody>\n",
       "</table>\n",
       "</div>"
      ],
      "text/plain": [
       "    lat    lon\n",
       "0 -89.5 -179.5\n",
       "1 -88.5 -179.5\n",
       "2 -87.5 -179.5\n",
       "3 -86.5 -179.5\n",
       "4 -85.5 -179.5"
      ]
     },
     "execution_count": 93,
     "metadata": {},
     "output_type": "execute_result"
    }
   ],
   "source": [
    "df.head()"
   ]
  },
  {
   "cell_type": "code",
   "execution_count": null,
   "id": "ce463676-8c19-46d7-9166-f7b6ced1201d",
   "metadata": {},
   "outputs": [],
   "source": []
  }
 ],
 "metadata": {
  "kernelspec": {
   "display_name": "Python 3 (ipykernel)",
   "language": "python",
   "name": "python3"
  },
  "language_info": {
   "codemirror_mode": {
    "name": "ipython",
    "version": 3
   },
   "file_extension": ".py",
   "mimetype": "text/x-python",
   "name": "python",
   "nbconvert_exporter": "python",
   "pygments_lexer": "ipython3",
   "version": "3.9.12"
  }
 },
 "nbformat": 4,
 "nbformat_minor": 5
}
