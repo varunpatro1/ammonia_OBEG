{
 "cells": [
  {
   "cell_type": "code",
   "execution_count": 1,
   "id": "4e59d1e5-8a59-44e6-9d14-7de1893be3cd",
   "metadata": {},
   "outputs": [],
   "source": [
    "import numpy as np\n",
    "import pandas as pd\n",
    "import matplotlib.pyplot as plt"
   ]
  },
  {
   "cell_type": "code",
   "execution_count": 3,
   "id": "6e1925f9-f53e-4fd2-a049-0bb9757e00d3",
   "metadata": {},
   "outputs": [],
   "source": [
    "from scipy.io import loadmat\n",
    "mat = loadmat(r'/Users/varunpatro/Desktop/OBEG/mat_files/data_ingestion_02-Aug-2022_07_03_19_compilation.mat')"
   ]
  },
  {
   "cell_type": "code",
   "execution_count": 4,
   "id": "22af498f-8755-4acd-a236-5fb65e9d64cd",
   "metadata": {},
   "outputs": [],
   "source": [
    "data = mat['data_all']\n",
    "mdtype = data.dtype\n",
    "ndata = {n: data[n][0, 0] for n in mdtype.names}\n",
    "columns = [n for n, v in ndata.items() if v.size == ndata['ncast']]\n",
    "df = pd.DataFrame(np.concatenate([ndata[c] for c in columns], axis=1),\n",
    "                  columns=columns)"
   ]
  },
  {
   "cell_type": "code",
   "execution_count": 26,
   "id": "3fead110",
   "metadata": {},
   "outputs": [],
   "source": [
    "dates = ndata['date']"
   ]
  },
  {
   "cell_type": "code",
   "execution_count": 28,
   "id": "e6199858",
   "metadata": {},
   "outputs": [
    {
     "data": {
      "text/plain": [
       "(2154307, 6)"
      ]
     },
     "execution_count": 28,
     "metadata": {},
     "output_type": "execute_result"
    }
   ],
   "source": [
    "dates.shape"
   ]
  },
  {
   "cell_type": "code",
   "execution_count": 29,
   "id": "e82bcd1a",
   "metadata": {},
   "outputs": [],
   "source": [
    "dates = pd.DataFrame(dates)"
   ]
  },
  {
   "cell_type": "code",
   "execution_count": 32,
   "id": "f490a34f",
   "metadata": {},
   "outputs": [],
   "source": [
    "dates.to_csv('dates.csv')"
   ]
  },
  {
   "cell_type": "code",
   "execution_count": 33,
   "id": "3c7d7f2d-bf9d-4de3-8e62-29b5be7edb46",
   "metadata": {},
   "outputs": [
    {
     "data": {
      "text/plain": [
       "(2154307, 41)"
      ]
     },
     "execution_count": 33,
     "metadata": {},
     "output_type": "execute_result"
    }
   ],
   "source": [
    "df.shape"
   ]
  },
  {
   "cell_type": "code",
   "execution_count": 34,
   "id": "dc49ca43-9299-44a4-b612-959270ceb07e",
   "metadata": {},
   "outputs": [
    {
     "data": {
      "text/html": [
       "<div>\n",
       "<style scoped>\n",
       "    .dataframe tbody tr th:only-of-type {\n",
       "        vertical-align: middle;\n",
       "    }\n",
       "\n",
       "    .dataframe tbody tr th {\n",
       "        vertical-align: top;\n",
       "    }\n",
       "\n",
       "    .dataframe thead th {\n",
       "        text-align: right;\n",
       "    }\n",
       "</style>\n",
       "<table border=\"1\" class=\"dataframe\">\n",
       "  <thead>\n",
       "    <tr style=\"text-align: right;\">\n",
       "      <th></th>\n",
       "      <th>cruiseid</th>\n",
       "      <th>lat</th>\n",
       "      <th>lon</th>\n",
       "      <th>depth</th>\n",
       "      <th>bottom</th>\n",
       "      <th>press</th>\n",
       "      <th>temp</th>\n",
       "      <th>salt</th>\n",
       "      <th>o2</th>\n",
       "      <th>po4</th>\n",
       "      <th>...</th>\n",
       "      <th>dens</th>\n",
       "      <th>bsi</th>\n",
       "      <th>lsi</th>\n",
       "      <th>pco2</th>\n",
       "      <th>urea</th>\n",
       "      <th>mn</th>\n",
       "      <th>fe2</th>\n",
       "      <th>etopo</th>\n",
       "      <th>sigma0</th>\n",
       "      <th>nstar</th>\n",
       "    </tr>\n",
       "  </thead>\n",
       "  <tbody>\n",
       "    <tr>\n",
       "      <th>0</th>\n",
       "      <td>[A12_06AQANTX_4]</td>\n",
       "      <td>-69.0</td>\n",
       "      <td>0.0167</td>\n",
       "      <td>9.751581</td>\n",
       "      <td>3378.35</td>\n",
       "      <td>9.6</td>\n",
       "      <td>-1.8469</td>\n",
       "      <td>34.2978</td>\n",
       "      <td>312.8</td>\n",
       "      <td>2.13</td>\n",
       "      <td>...</td>\n",
       "      <td>NaN</td>\n",
       "      <td>NaN</td>\n",
       "      <td>NaN</td>\n",
       "      <td>NaN</td>\n",
       "      <td>NaN</td>\n",
       "      <td>NaN</td>\n",
       "      <td>NaN</td>\n",
       "      <td>3358.036</td>\n",
       "      <td>27.617808</td>\n",
       "      <td>NaN</td>\n",
       "    </tr>\n",
       "    <tr>\n",
       "      <th>1</th>\n",
       "      <td>[A12_06AQANTX_4]</td>\n",
       "      <td>-69.0</td>\n",
       "      <td>0.0167</td>\n",
       "      <td>39.846279</td>\n",
       "      <td>3378.35</td>\n",
       "      <td>40.1</td>\n",
       "      <td>-1.8242</td>\n",
       "      <td>34.2971</td>\n",
       "      <td>312.7</td>\n",
       "      <td>2.15</td>\n",
       "      <td>...</td>\n",
       "      <td>NaN</td>\n",
       "      <td>NaN</td>\n",
       "      <td>NaN</td>\n",
       "      <td>NaN</td>\n",
       "      <td>NaN</td>\n",
       "      <td>NaN</td>\n",
       "      <td>NaN</td>\n",
       "      <td>3358.036</td>\n",
       "      <td>27.616556</td>\n",
       "      <td>NaN</td>\n",
       "    </tr>\n",
       "    <tr>\n",
       "      <th>2</th>\n",
       "      <td>[A12_06AQANTX_4]</td>\n",
       "      <td>-69.0</td>\n",
       "      <td>0.0167</td>\n",
       "      <td>68.894464</td>\n",
       "      <td>3378.35</td>\n",
       "      <td>69.5</td>\n",
       "      <td>-1.7451</td>\n",
       "      <td>34.31265</td>\n",
       "      <td>311.4</td>\n",
       "      <td>2.04</td>\n",
       "      <td>...</td>\n",
       "      <td>NaN</td>\n",
       "      <td>NaN</td>\n",
       "      <td>NaN</td>\n",
       "      <td>NaN</td>\n",
       "      <td>NaN</td>\n",
       "      <td>NaN</td>\n",
       "      <td>NaN</td>\n",
       "      <td>3358.036</td>\n",
       "      <td>27.627378</td>\n",
       "      <td>NaN</td>\n",
       "    </tr>\n",
       "    <tr>\n",
       "      <th>3</th>\n",
       "      <td>[A12_06AQANTX_4]</td>\n",
       "      <td>-69.0</td>\n",
       "      <td>0.0167</td>\n",
       "      <td>98.935306</td>\n",
       "      <td>3378.35</td>\n",
       "      <td>99.9</td>\n",
       "      <td>-1.1087</td>\n",
       "      <td>34.4279</td>\n",
       "      <td>278.3</td>\n",
       "      <td>2.14</td>\n",
       "      <td>...</td>\n",
       "      <td>NaN</td>\n",
       "      <td>NaN</td>\n",
       "      <td>NaN</td>\n",
       "      <td>NaN</td>\n",
       "      <td>NaN</td>\n",
       "      <td>NaN</td>\n",
       "      <td>NaN</td>\n",
       "      <td>3358.036</td>\n",
       "      <td>27.700333</td>\n",
       "      <td>NaN</td>\n",
       "    </tr>\n",
       "    <tr>\n",
       "      <th>4</th>\n",
       "      <td>[A12_06AQANTX_4]</td>\n",
       "      <td>-69.0</td>\n",
       "      <td>0.0167</td>\n",
       "      <td>148.86656</td>\n",
       "      <td>3378.35</td>\n",
       "      <td>150.3</td>\n",
       "      <td>0.3006</td>\n",
       "      <td>34.5888</td>\n",
       "      <td>220.6</td>\n",
       "      <td>2.24</td>\n",
       "      <td>...</td>\n",
       "      <td>NaN</td>\n",
       "      <td>NaN</td>\n",
       "      <td>NaN</td>\n",
       "      <td>NaN</td>\n",
       "      <td>NaN</td>\n",
       "      <td>NaN</td>\n",
       "      <td>NaN</td>\n",
       "      <td>3358.036</td>\n",
       "      <td>27.764191</td>\n",
       "      <td>NaN</td>\n",
       "    </tr>\n",
       "  </tbody>\n",
       "</table>\n",
       "<p>5 rows × 41 columns</p>\n",
       "</div>"
      ],
      "text/plain": [
       "           cruiseid   lat     lon      depth   bottom  press    temp  \\\n",
       "0  [A12_06AQANTX_4] -69.0  0.0167   9.751581  3378.35    9.6 -1.8469   \n",
       "1  [A12_06AQANTX_4] -69.0  0.0167  39.846279  3378.35   40.1 -1.8242   \n",
       "2  [A12_06AQANTX_4] -69.0  0.0167  68.894464  3378.35   69.5 -1.7451   \n",
       "3  [A12_06AQANTX_4] -69.0  0.0167  98.935306  3378.35   99.9 -1.1087   \n",
       "4  [A12_06AQANTX_4] -69.0  0.0167  148.86656  3378.35  150.3  0.3006   \n",
       "\n",
       "       salt     o2   po4  ... dens  bsi  lsi pco2 urea   mn  fe2     etopo  \\\n",
       "0   34.2978  312.8  2.13  ...  NaN  NaN  NaN  NaN  NaN  NaN  NaN  3358.036   \n",
       "1   34.2971  312.7  2.15  ...  NaN  NaN  NaN  NaN  NaN  NaN  NaN  3358.036   \n",
       "2  34.31265  311.4  2.04  ...  NaN  NaN  NaN  NaN  NaN  NaN  NaN  3358.036   \n",
       "3   34.4279  278.3  2.14  ...  NaN  NaN  NaN  NaN  NaN  NaN  NaN  3358.036   \n",
       "4   34.5888  220.6  2.24  ...  NaN  NaN  NaN  NaN  NaN  NaN  NaN  3358.036   \n",
       "\n",
       "      sigma0 nstar  \n",
       "0  27.617808   NaN  \n",
       "1  27.616556   NaN  \n",
       "2  27.627378   NaN  \n",
       "3  27.700333   NaN  \n",
       "4  27.764191   NaN  \n",
       "\n",
       "[5 rows x 41 columns]"
      ]
     },
     "execution_count": 34,
     "metadata": {},
     "output_type": "execute_result"
    }
   ],
   "source": [
    "df.head()"
   ]
  },
  {
   "cell_type": "code",
   "execution_count": 35,
   "id": "cdce55bf-3ba1-4405-8b16-63a4af282d1d",
   "metadata": {},
   "outputs": [],
   "source": [
    "df = df.drop(columns = ['cruiseid'])"
   ]
  },
  {
   "cell_type": "code",
   "execution_count": 36,
   "id": "8f4ab6f2-8343-42df-b55d-bcc02cd676a6",
   "metadata": {},
   "outputs": [],
   "source": [
    "df['target'] = df['nh4']"
   ]
  },
  {
   "cell_type": "code",
   "execution_count": 37,
   "id": "e0b3602a-88c2-40d7-ad94-259b64f63957",
   "metadata": {},
   "outputs": [],
   "source": [
    "df = df.drop(columns = ['nh4'])"
   ]
  },
  {
   "cell_type": "code",
   "execution_count": 38,
   "id": "9e88445f-501a-4787-905e-f15d58c9ab4c",
   "metadata": {},
   "outputs": [
    {
     "data": {
      "text/plain": [
       "(2154307, 40)"
      ]
     },
     "execution_count": 38,
     "metadata": {},
     "output_type": "execute_result"
    }
   ],
   "source": [
    "df.shape"
   ]
  },
  {
   "cell_type": "code",
   "execution_count": 11,
   "id": "8831baaa-070b-402d-a84f-76c120f5ff9e",
   "metadata": {},
   "outputs": [
    {
     "name": "stdout",
     "output_type": "stream",
     "text": [
      "['lat', 'lon', 'depth', 'bottom', 'press', 'temp', 'salt', 'o2', 'po4', 'no3', 'no2', 'sio2', 'chl', 'doc', 'don', 'station', 'no3_no2', 'poc', 'pon', 'pop', 'n2o', 'dop', 'n2_excess', 'n2_biogenic', 'ch4', 'fe', 'dic', 'alk', 'phaeo', 'dens', 'bsi', 'lsi', 'pco2', 'urea', 'mn', 'fe2', 'etopo', 'sigma0', 'nstar', 'target']\n"
     ]
    }
   ],
   "source": [
    "print(df.columns.tolist())"
   ]
  },
  {
   "cell_type": "code",
   "execution_count": 59,
   "id": "7ee71757-a934-4c0c-8434-80e21e222f96",
   "metadata": {},
   "outputs": [],
   "source": [
    "df.to_csv('ammonia.csv')"
   ]
  },
  {
   "cell_type": "code",
   "execution_count": null,
   "id": "f8149071-c1fe-4398-bf55-aa8c55e8910b",
   "metadata": {},
   "outputs": [],
   "source": []
  }
 ],
 "metadata": {
  "kernelspec": {
   "display_name": "Python 3 (ipykernel)",
   "language": "python",
   "name": "python3"
  },
  "language_info": {
   "codemirror_mode": {
    "name": "ipython",
    "version": 3
   },
   "file_extension": ".py",
   "mimetype": "text/x-python",
   "name": "python",
   "nbconvert_exporter": "python",
   "pygments_lexer": "ipython3",
   "version": "3.9.12"
  },
  "vscode": {
   "interpreter": {
    "hash": "810399fb6b8a082c38a7b1f7f8ffcd1e9895e07b7ef672d1c011ca4136bd57e8"
   }
  }
 },
 "nbformat": 4,
 "nbformat_minor": 5
}
