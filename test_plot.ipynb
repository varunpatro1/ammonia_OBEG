{
 "cells": [
  {
   "cell_type": "code",
   "execution_count": 1,
   "id": "2b293530-2d16-4572-90d5-d0f38513b454",
   "metadata": {},
   "outputs": [],
   "source": [
    "import numpy as np\n",
    "import pandas as pd\n",
    "import matplotlib.pyplot as plt\n",
    "\n",
    "import geopandas as gpd\n",
    "from geopandas import GeoDataFrame"
   ]
  },
  {
   "cell_type": "code",
   "execution_count": 2,
   "id": "8753c0fb-cd74-49d1-be52-4d17e4d848fc",
   "metadata": {},
   "outputs": [],
   "source": [
    "from plotting_function import *"
   ]
  },
  {
   "cell_type": "code",
   "execution_count": 3,
   "id": "3f53f39d-15ab-4ce0-8862-267d1251539f",
   "metadata": {},
   "outputs": [],
   "source": [
    "months = np.load('/Users/varunpatro/Desktop/OBEG/dataframes/nh4_grid_by_month.csv.npy')"
   ]
  },
  {
   "cell_type": "code",
   "execution_count": 4,
   "id": "e38a714a-9976-433e-85da-360987b337b4",
   "metadata": {},
   "outputs": [],
   "source": [
    "month_counts = np.load('/Users/varunpatro/Desktop/OBEG/dataframes/counts_nh4_grid_by_month.csv.npy')"
   ]
  },
  {
   "cell_type": "code",
   "execution_count": 5,
   "id": "0e53321f-7f78-416f-b741-47bd75646150",
   "metadata": {},
   "outputs": [
    {
     "name": "stderr",
     "output_type": "stream",
     "text": [
      "/var/folders/0_/tw3dnhmx5dqct_g6c2zwmwg80000gn/T/ipykernel_74385/40245054.py:1: RuntimeWarning: divide by zero encountered in log\n",
      "  log_months = np.log(months)\n",
      "/var/folders/0_/tw3dnhmx5dqct_g6c2zwmwg80000gn/T/ipykernel_74385/40245054.py:1: RuntimeWarning: invalid value encountered in log\n",
      "  log_months = np.log(months)\n"
     ]
    }
   ],
   "source": [
    "log_months = np.log(months)"
   ]
  },
  {
   "cell_type": "code",
   "execution_count": 6,
   "id": "31824bf3-2850-4225-8404-313b6b4b021b",
   "metadata": {},
   "outputs": [
    {
     "data": {
      "text/plain": [
       "(12, 360, 180, 102)"
      ]
     },
     "execution_count": 6,
     "metadata": {},
     "output_type": "execute_result"
    }
   ],
   "source": [
    "log_months.shape"
   ]
  },
  {
   "cell_type": "code",
   "execution_count": 7,
   "id": "406551da-a6ef-4d48-81b7-830a3b607ef0",
   "metadata": {},
   "outputs": [],
   "source": [
    "depth_1 = []\n",
    "log_depth_1 = []\n",
    "depth_1_counts = []\n",
    "\n",
    "for i in range(12):\n",
    "    depth_1.append(months[i,:,:,0].ravel())\n",
    "    log_depth_1.append(log_months[i,:,:,0].ravel())\n",
    "    depth_1_counts.append(month_counts[i,:,:,0].ravel())"
   ]
  },
  {
   "cell_type": "code",
   "execution_count": 8,
   "id": "f7c46096-bf59-4563-99c5-0545f77f5dcb",
   "metadata": {},
   "outputs": [
    {
     "name": "stdout",
     "output_type": "stream",
     "text": [
      "flattened version of 360 lattitude columns (final LH column in df)):  64800\n",
      "each long coord 180 times (final RH column in df)):  64800\n"
     ]
    }
   ],
   "source": [
    "# building columns of data frame\n",
    "\n",
    "lat_pts = np.linspace(-89.5,90.5,180,False)\n",
    "lat_col = []\n",
    "\n",
    "for i in range(360):\n",
    "    lat_col.append(lat_pts)\n",
    "        \n",
    "lat_col = [item for sublist in lat_col for item in sublist]\n",
    "print('flattened version of 360 lattitude columns (final LH column in df)): ', len(lat_col))\n",
    "\n",
    "lon_pts = np.linspace(-179.5, 180.5, 360, False)\n",
    "\n",
    "lon_col = []\n",
    "for i in range(360):\n",
    "    for j in range(180):\n",
    "        lon_col.append(lon_pts[i])\n",
    "print('each long coord 180 times (final RH column in df)): ', len(lon_col))"
   ]
  },
  {
   "cell_type": "code",
   "execution_count": 9,
   "id": "f4afbcd4-1590-4fa2-90c2-7951bd8f7c35",
   "metadata": {},
   "outputs": [
    {
     "name": "stdout",
     "output_type": "stream",
     "text": [
      "Index(['lat', 'lon'], dtype='object')\n"
     ]
    }
   ],
   "source": [
    "df = pd.DataFrame({'lat':lat_col})\n",
    "df['lon'] = lon_col\n",
    "print(df.columns)"
   ]
  },
  {
   "cell_type": "code",
   "execution_count": 11,
   "id": "72919b20-f14c-4edb-9067-9cd97b9c7b00",
   "metadata": {},
   "outputs": [
    {
     "data": {
      "text/plain": [
       "12"
      ]
     },
     "execution_count": 11,
     "metadata": {},
     "output_type": "execute_result"
    }
   ],
   "source": [
    "len(months)"
   ]
  },
  {
   "cell_type": "code",
   "execution_count": 13,
   "id": "6e44e057-7381-4fcc-9409-606b7c24ccb7",
   "metadata": {},
   "outputs": [
    {
     "data": {
      "text/plain": [
       "(360, 180, 102)"
      ]
     },
     "execution_count": 13,
     "metadata": {},
     "output_type": "execute_result"
    }
   ],
   "source": [
    "(months[0].shape)\n"
   ]
  },
  {
   "cell_type": "code",
   "execution_count": null,
   "id": "0ed6006d-4ae6-49c4-90e1-a913780495ad",
   "metadata": {},
   "outputs": [],
   "source": [
    "# adding 12 new columns to the data frame -- log concentrations\n",
    "\n",
    "month_names = ['jan', 'feb', 'mar', 'apr', 'may', 'jun', 'jul', 'aug', 'sep', 'octo', 'nov', 'dec']\n",
    "\n",
    "for i in range(12):\n",
    "    df[month_names[i] + '_log_depth_1'] = (np.log(months[i,:,:,0].ravel())).tolist()\n"
   ]
  }
 ],
 "metadata": {
  "kernelspec": {
   "display_name": "Python 3 (ipykernel)",
   "language": "python",
   "name": "python3"
  },
  "language_info": {
   "codemirror_mode": {
    "name": "ipython",
    "version": 3
   },
   "file_extension": ".py",
   "mimetype": "text/x-python",
   "name": "python",
   "nbconvert_exporter": "python",
   "pygments_lexer": "ipython3",
   "version": "3.9.12"
  }
 },
 "nbformat": 4,
 "nbformat_minor": 5
}
